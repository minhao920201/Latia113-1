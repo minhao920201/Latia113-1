{
  "nbformat": 4,
  "nbformat_minor": 0,
  "metadata": {
    "colab": {
      "provenance": []
    },
    "kernelspec": {
      "name": "python3",
      "display_name": "Python 3"
    },
    "language_info": {
      "name": "python"
    }
  },
  "cells": [
    {
      "cell_type": "markdown",
      "source": [
        "額外練習<br>\n",
        "使用專題的資料研究兩欗('mission_difficulty'和'correct_rate')的關聯<br>\n",
        "首先簡單的利用dropna把所有missing value刪去<br>\n",
        "再來確認這兩欗的型別，並將'mission_difficulty'從中文字轉換成數字<br>\n",
        "最後利用上課所學的線性回歸查看兩者關聯性<br>\n",
        "####從p-value = 0.81和coef為負數可看出'mission_difficulty'對於'correct_rate'並無顯著的負相關"
      ],
      "metadata": {
        "id": "QTK_xjjD-e8q"
      }
    },
    {
      "cell_type": "code",
      "source": [
        "import pandas as pd\n",
        "import statsmodels.api as sm\n",
        "import numpy as np\n",
        "\n",
        "df = pd.read_csv(\"A_stat_data_112.csv\")\n",
        "\n",
        "df = df.dropna()\n",
        "\n",
        "\n",
        "#確認'mission_difficulty'和'correct_rate'的型別\n",
        "print(df['mission_difficulty'].dtypes, df['correct_rate'].dtypes)\n",
        "\n",
        "\n",
        "# 由於'mission_difficulty'非述職的型別，因此以下將其把中文字轉換為數值表示\n",
        "# 首先查看 'mission_difficulty' 欄位中的唯一值\n",
        "unique_values = df['mission_difficulty'].unique()\n",
        "print(\"Unique mission difficulties:\", unique_values)\n",
        "\n",
        "\n",
        "# 自動建立映射字典\n",
        "difficulty_mapping = {value: idx for idx, value in enumerate(unique_values, start=1)}\n",
        "print(\"Difficulty mapping:\", difficulty_mapping)\n",
        "\n",
        "\n",
        "# 將 'mission_difficulty' 欄位中的值轉換為數字\n",
        "df['mission_difficulty'] = df['mission_difficulty'].map(difficulty_mapping)\n",
        "\n",
        "\n",
        "\n",
        "X = df['mission_difficulty']\n",
        "y = df['correct_rate']\n",
        "\n",
        "\n",
        "X = sm.add_constant(X)\n",
        "\n",
        "model = sm.OLS(y, X).fit()\n",
        "\n",
        "print(model.summary())\n"
      ],
      "metadata": {
        "colab": {
          "base_uri": "https://localhost:8080/"
        },
        "id": "cUeN2xJ80tkN",
        "outputId": "ee632e11-8a8c-4f3d-95bd-4a4623ed6807"
      },
      "execution_count": 18,
      "outputs": [
        {
          "output_type": "stream",
          "name": "stdout",
          "text": [
            "object float64\n",
            "Unique mission difficulties: ['中' '易']\n",
            "Difficulty mapping: {'中': 1, '易': 2}\n",
            "                            OLS Regression Results                            \n",
            "==============================================================================\n",
            "Dep. Variable:           correct_rate   R-squared:                       0.000\n",
            "Model:                            OLS   Adj. R-squared:                 -0.000\n",
            "Method:                 Least Squares   F-statistic:                   0.05781\n",
            "Date:                Thu, 07 Nov 2024   Prob (F-statistic):              0.810\n",
            "Time:                        14:14:06   Log-Likelihood:                -646.21\n",
            "No. Observations:                1894   AIC:                             1296.\n",
            "Df Residuals:                    1892   BIC:                             1308.\n",
            "Df Model:                           1                                         \n",
            "Covariance Type:            nonrobust                                         \n",
            "======================================================================================\n",
            "                         coef    std err          t      P>|t|      [0.025      0.975]\n",
            "--------------------------------------------------------------------------------------\n",
            "const                  0.5159      0.241      2.138      0.033       0.043       0.989\n",
            "mission_difficulty    -0.0579      0.241     -0.240      0.810      -0.530       0.415\n",
            "==============================================================================\n",
            "Omnibus:                     1123.441   Durbin-Watson:                   1.754\n",
            "Prob(Omnibus):                  0.000   Jarque-Bera (JB):              131.808\n",
            "Skew:                           0.286   Prob(JB):                     2.39e-29\n",
            "Kurtosis:                       1.841   Cond. No.                         61.7\n",
            "==============================================================================\n",
            "\n",
            "Notes:\n",
            "[1] Standard Errors assume that the covariance matrix of the errors is correctly specified.\n"
          ]
        },
        {
          "output_type": "stream",
          "name": "stderr",
          "text": [
            "<ipython-input-18-ea5c41c8c7ac>:26: SettingWithCopyWarning: \n",
            "A value is trying to be set on a copy of a slice from a DataFrame.\n",
            "Try using .loc[row_indexer,col_indexer] = value instead\n",
            "\n",
            "See the caveats in the documentation: https://pandas.pydata.org/pandas-docs/stable/user_guide/indexing.html#returning-a-view-versus-a-copy\n",
            "  df['mission_difficulty'] = df['mission_difficulty'].map(difficulty_mapping)\n"
          ]
        }
      ]
    },
    {
      "cell_type": "markdown",
      "source": [
        "HW1<br>\n",
        "B對A有著較不顯著的負相關影響，因為其p-value為0.078，代表有一顆*<br>\n",
        "C對A有著顯著的正相關影響，因為其p-value為0.007，代表有三顆*"
      ],
      "metadata": {
        "id": "inD-8000-yuW"
      }
    },
    {
      "cell_type": "code",
      "source": [
        "import pandas as pd\n",
        "import statsmodels.api as sm\n",
        "import numpy as np\n",
        "\n",
        "df2 = pd.DataFrame(np.random.randn(100, 4), columns=list(\"ABCD\"))\n",
        "\n",
        "# 設定應變數 y 和自變數 X\n",
        "X = df2.iloc[:, 1:3]  # 取出第2和第3列（依照您的提示 df2.iloc[:,1:3]）\n",
        "y = df2.iloc[:, 0]    # 假設第1列是應變數\n",
        "\n",
        "# 增加常數項以包含截距\n",
        "X = sm.add_constant(X)\n",
        "\n",
        "# 建立並擬合模型\n",
        "model = sm.OLS(y, X).fit()\n",
        "\n",
        "# 顯示回歸結果\n",
        "print(model.summary())"
      ],
      "metadata": {
        "colab": {
          "base_uri": "https://localhost:8080/"
        },
        "id": "E_0_mroJ6bEm",
        "outputId": "a941b74a-8bc7-4060-9fc8-a13d40a00252"
      },
      "execution_count": null,
      "outputs": [
        {
          "output_type": "stream",
          "name": "stdout",
          "text": [
            "                            OLS Regression Results                            \n",
            "==============================================================================\n",
            "Dep. Variable:                      A   R-squared:                       0.105\n",
            "Model:                            OLS   Adj. R-squared:                  0.086\n",
            "Method:                 Least Squares   F-statistic:                     5.665\n",
            "Date:                Thu, 07 Nov 2024   Prob (F-statistic):            0.00471\n",
            "Time:                        09:33:18   Log-Likelihood:                -135.90\n",
            "No. Observations:                 100   AIC:                             277.8\n",
            "Df Residuals:                      97   BIC:                             285.6\n",
            "Df Model:                           2                                         \n",
            "Covariance Type:            nonrobust                                         \n",
            "==============================================================================\n",
            "                 coef    std err          t      P>|t|      [0.025      0.975]\n",
            "------------------------------------------------------------------------------\n",
            "const         -0.0747      0.097     -0.768      0.444      -0.268       0.118\n",
            "B             -0.1756      0.099     -1.783      0.078      -0.371       0.020\n",
            "C              0.2860      0.103      2.782      0.007       0.082       0.490\n",
            "==============================================================================\n",
            "Omnibus:                        2.544   Durbin-Watson:                   1.989\n",
            "Prob(Omnibus):                  0.280   Jarque-Bera (JB):                1.934\n",
            "Skew:                          -0.243   Prob(JB):                        0.380\n",
            "Kurtosis:                       3.477   Cond. No.                         1.21\n",
            "==============================================================================\n",
            "\n",
            "Notes:\n",
            "[1] Standard Errors assume that the covariance matrix of the errors is correctly specified.\n"
          ]
        }
      ]
    },
    {
      "cell_type": "markdown",
      "source": [
        "以下皆為課堂練習"
      ],
      "metadata": {
        "id": "7GMHdD23-7yl"
      }
    },
    {
      "cell_type": "code",
      "execution_count": null,
      "metadata": {
        "colab": {
          "base_uri": "https://localhost:8080/"
        },
        "id": "6Ajkfdrn3pL4",
        "outputId": "4bcd34ed-8626-4cd1-d1f0-f933a51ba102"
      },
      "outputs": [
        {
          "output_type": "stream",
          "name": "stdout",
          "text": [
            "                            OLS Regression Results                            \n",
            "==============================================================================\n",
            "Dep. Variable:                      B   R-squared:                       0.032\n",
            "Model:                            OLS   Adj. R-squared:                  0.022\n",
            "Method:                 Least Squares   F-statistic:                     3.256\n",
            "Date:                Thu, 07 Nov 2024   Prob (F-statistic):             0.0742\n",
            "Time:                        09:18:29   Log-Likelihood:                -131.63\n",
            "No. Observations:                 100   AIC:                             267.3\n",
            "Df Residuals:                      98   BIC:                             272.5\n",
            "Df Model:                           1                                         \n",
            "Covariance Type:            nonrobust                                         \n",
            "==============================================================================\n",
            "                 coef    std err          t      P>|t|      [0.025      0.975]\n",
            "------------------------------------------------------------------------------\n",
            "const         -0.0143      0.091     -0.156      0.876      -0.196       0.167\n",
            "A             -0.1543      0.086     -1.805      0.074      -0.324       0.015\n",
            "==============================================================================\n",
            "Omnibus:                        1.092   Durbin-Watson:                   1.691\n",
            "Prob(Omnibus):                  0.579   Jarque-Bera (JB):                0.605\n",
            "Skew:                          -0.113   Prob(JB):                        0.739\n",
            "Kurtosis:                       3.306   Cond. No.                         1.10\n",
            "==============================================================================\n",
            "\n",
            "Notes:\n",
            "[1] Standard Errors assume that the covariance matrix of the errors is correctly specified.\n"
          ]
        }
      ],
      "source": [
        "import pandas as pd\n",
        "import statsmodels.api as sm\n",
        "import numpy as np\n",
        "df2 = pd.DataFrame(np.random.randn(100, 4), columns=list(\"ABCD\"))\n",
        "X = df2['A']\n",
        "y = df2['B']\n",
        "# Add a constant to the model (for the intercept term)\n",
        "X = sm.add_constant(X)\n",
        "X\n",
        "# Fit the regression model\n",
        "model = sm.OLS(y, X).fit()\n",
        "# Display the regression results\n",
        "print(model.summary())\n"
      ]
    },
    {
      "cell_type": "code",
      "source": [
        "import pandas as pd\n",
        "import numpy as np\n",
        "from sklearn.ensemble import RandomForestRegressor\n",
        "from sklearn.model_selection import train_test_split\n",
        "from sklearn.metrics import mean_squared_error\n",
        "\n",
        "\n",
        "\n",
        "df = pd.read_csv('A_stat_data_112.csv')\n",
        "# 假設要預測'correct_rate' 並使用其他數值型變量作為特徵\n",
        "df = df.dropna(subset=['correct_rate']) # 去除 'correct_rate' 為 NaN 的行\n",
        "X = df[['grade', 'is_completed', 'answer_duration_sec']] # 例選三個特徵\n",
        "y = df['correct_rate']\n",
        "\n",
        "\n",
        "\n",
        "# 分割訓練集和測試集\n",
        "X_train, X_test, y_train, y_test = train_test_split(X, y, test_size=0.2, random_state=42)\n",
        "\n",
        "\n",
        "\n",
        "# 訓練隨機森林回歸模型\n",
        "rf_model = RandomForestRegressor(n_estimators=100, random_state=42)\n",
        "rf_model.fit(X_train, y_train)\n",
        "\n",
        "\n",
        "\n",
        "# 預測及評估\n",
        "y_pred = rf_model.predict(X_test)\n",
        "print(\"均方誤差(MSE):\", mean_squared_error(y_test, y_pred))\n",
        "\n",
        "\n",
        "\n",
        "# 將特徵重要性與特徵名稱對應起來\n",
        "feature_importance = pd.DataFrame({\n",
        " 'Feature': X.columns,\n",
        " 'Importance': rf_model.feature_importances_\n",
        " })\n",
        "\n",
        "\n",
        "# 顯示特徵重要性\n",
        "print(feature_importance)\n",
        " #R2\n",
        "from sklearn.metrics import r2_score\n",
        "r2 = r2_score(y_test, y_pred)\n",
        "print(\"R^2:\", r2)"
      ],
      "metadata": {
        "id": "RpL8t7L8A3TD",
        "colab": {
          "base_uri": "https://localhost:8080/"
        },
        "outputId": "2f2ffbc5-10a4-41ef-a8c4-af36c3b083d3"
      },
      "execution_count": 3,
      "outputs": [
        {
          "output_type": "stream",
          "name": "stdout",
          "text": [
            "均方誤差(MSE): 0.08000704011116909\n",
            "               Feature  Importance\n",
            "0                grade    0.042442\n",
            "1         is_completed    0.000000\n",
            "2  answer_duration_sec    0.957558\n",
            "R^2: 0.21961619586845682\n"
          ]
        }
      ]
    }
  ]
}